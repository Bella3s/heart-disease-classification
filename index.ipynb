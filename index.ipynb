{
 "cells": [
  {
   "cell_type": "markdown",
   "metadata": {},
   "source": [
    "# Heart Disease Classification\n",
    "Phase 3 Project by Bella Scribner\n",
    "- Flex\n",
    "- Morgan Jones\n",
    "- Date of Project Review:\n",
    "- Blog: "
   ]
  },
  {
   "cell_type": "markdown",
   "metadata": {},
   "source": [
    "# Intro + Data Exploration\n",
    "- The Business + Buisness Problem\n",
    "- Overview of project goals/what want to accomplish in order to 'solve' or address the business problem\n",
    "\n",
    "- Data Exploration\n",
    "    - What data set working with\n",
    "    - Explination of the columns (identify target)\n",
    "    - .describe, .info, .value counts of target (introduce idea of maybe needing SMOTE)\n",
    "    - Missing Data? --> how might handle based on what kind of data is missing (and how much)"
   ]
  },
  {
   "cell_type": "markdown",
   "metadata": {},
   "source": [
    "# Data Pre-processing\n",
    "\n",
    "- Train Test Split\n",
    "- If missing values --> handle + explian why chosen method(s)\n",
    "- Categorical columns -- > encode (don't forget handel unknown = ignore)\n",
    "- SMOTE --> see lecture! imblear's pipelines!!\n",
    "\n",
    "### NOTE ---> wondering if I should do this in a pipeline at first? Or for simple, initial model, do 'by hand' preprocessing and then convert into pipeline???\n",
    "\n",
    "## Important to choose what types of models going to try!!\n",
    "- some models require scaling of numberical values --> need to get into data and decide which models seem most appropriate and if some of those models require scaling --> add to preprocessing/pipeline\n",
    "\n",
    "THis is where it will get a little tricky to stay organized. Different models need different preprocessing --> should just create pipeline for each model I suppose to keep it as clean as possible.  Plus can use pipeline + grid search (+cross validation) for later on..."
   ]
  },
  {
   "cell_type": "markdown",
   "metadata": {},
   "source": [
    "# Model Iteration (3 minimum)\n",
    "- Go through the different models\n",
    "    - why chose each model?\n",
    "    - quick evaluation of each model\n",
    "    - iterate through (hopefully improving) each model\n",
    "- Evaluation:\n",
    "    - appropriate metric for business problem!! indicate reasoning for which metric(s) using for each model DO NOT try to use all at once"
   ]
  },
  {
   "cell_type": "markdown",
   "metadata": {},
   "source": [
    "# Chose Final Model\n",
    "- choose final model\n",
    "- explain why\n",
    "- findings + recommendations\n",
    "    - model features - which ones important to model?\n",
    "    - how well can model predict target?\n",
    "    - contexts/situations where the predictions made by model would and would not be useful for your stakeholder and business problem\n",
    "    - what should stakeholders DO with this information??\n",
    "    - suggestions for how the buisness might modify certain input variables to achieve certain target results\n",
    "    - ETC...\n",
    "    - Limitations/Uncertainty in project?"
   ]
  },
  {
   "cell_type": "code",
   "execution_count": null,
   "metadata": {},
   "outputs": [],
   "source": []
  }
 ],
 "metadata": {
  "kernelspec": {
   "display_name": "Python (learn-env)",
   "language": "python",
   "name": "learn-env"
  },
  "language_info": {
   "codemirror_mode": {
    "name": "ipython",
    "version": 3
   },
   "file_extension": ".py",
   "mimetype": "text/x-python",
   "name": "python",
   "nbconvert_exporter": "python",
   "pygments_lexer": "ipython3",
   "version": "3.8.5"
  }
 },
 "nbformat": 4,
 "nbformat_minor": 4
}
